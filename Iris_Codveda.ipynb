{
 "cells": [
  {
   "cell_type": "code",
   "execution_count": 2,
   "id": "10027c73",
   "metadata": {},
   "outputs": [
    {
     "data": {
      "application/vnd.microsoft.datawrangler.viewer.v0+json": {
       "columns": [
        {
         "name": "index",
         "rawType": "int64",
         "type": "integer"
        },
        {
         "name": "sepal_length",
         "rawType": "float64",
         "type": "float"
        },
        {
         "name": "sepal_width",
         "rawType": "float64",
         "type": "float"
        },
        {
         "name": "petal_length",
         "rawType": "float64",
         "type": "float"
        },
        {
         "name": "petal_width",
         "rawType": "float64",
         "type": "float"
        },
        {
         "name": "species",
         "rawType": "object",
         "type": "string"
        }
       ],
       "ref": "d6aa1396-5319-4eb4-8468-2053c750b05d",
       "rows": [
        [
         "0",
         "5.1",
         "3.5",
         "1.4",
         "0.2",
         "setosa"
        ],
        [
         "1",
         "4.9",
         "3.0",
         "1.4",
         "0.2",
         "setosa"
        ],
        [
         "2",
         "4.7",
         "3.2",
         "1.3",
         "0.2",
         "setosa"
        ],
        [
         "3",
         "4.6",
         "3.1",
         "1.5",
         "0.2",
         "setosa"
        ],
        [
         "4",
         "5.0",
         "3.6",
         "1.4",
         "0.2",
         "setosa"
        ]
       ],
       "shape": {
        "columns": 5,
        "rows": 5
       }
      },
      "text/html": [
       "<div>\n",
       "<style scoped>\n",
       "    .dataframe tbody tr th:only-of-type {\n",
       "        vertical-align: middle;\n",
       "    }\n",
       "\n",
       "    .dataframe tbody tr th {\n",
       "        vertical-align: top;\n",
       "    }\n",
       "\n",
       "    .dataframe thead th {\n",
       "        text-align: right;\n",
       "    }\n",
       "</style>\n",
       "<table border=\"1\" class=\"dataframe\">\n",
       "  <thead>\n",
       "    <tr style=\"text-align: right;\">\n",
       "      <th></th>\n",
       "      <th>sepal_length</th>\n",
       "      <th>sepal_width</th>\n",
       "      <th>petal_length</th>\n",
       "      <th>petal_width</th>\n",
       "      <th>species</th>\n",
       "    </tr>\n",
       "  </thead>\n",
       "  <tbody>\n",
       "    <tr>\n",
       "      <th>0</th>\n",
       "      <td>5.1</td>\n",
       "      <td>3.5</td>\n",
       "      <td>1.4</td>\n",
       "      <td>0.2</td>\n",
       "      <td>setosa</td>\n",
       "    </tr>\n",
       "    <tr>\n",
       "      <th>1</th>\n",
       "      <td>4.9</td>\n",
       "      <td>3.0</td>\n",
       "      <td>1.4</td>\n",
       "      <td>0.2</td>\n",
       "      <td>setosa</td>\n",
       "    </tr>\n",
       "    <tr>\n",
       "      <th>2</th>\n",
       "      <td>4.7</td>\n",
       "      <td>3.2</td>\n",
       "      <td>1.3</td>\n",
       "      <td>0.2</td>\n",
       "      <td>setosa</td>\n",
       "    </tr>\n",
       "    <tr>\n",
       "      <th>3</th>\n",
       "      <td>4.6</td>\n",
       "      <td>3.1</td>\n",
       "      <td>1.5</td>\n",
       "      <td>0.2</td>\n",
       "      <td>setosa</td>\n",
       "    </tr>\n",
       "    <tr>\n",
       "      <th>4</th>\n",
       "      <td>5.0</td>\n",
       "      <td>3.6</td>\n",
       "      <td>1.4</td>\n",
       "      <td>0.2</td>\n",
       "      <td>setosa</td>\n",
       "    </tr>\n",
       "  </tbody>\n",
       "</table>\n",
       "</div>"
      ],
      "text/plain": [
       "   sepal_length  sepal_width  petal_length  petal_width species\n",
       "0           5.1          3.5           1.4          0.2  setosa\n",
       "1           4.9          3.0           1.4          0.2  setosa\n",
       "2           4.7          3.2           1.3          0.2  setosa\n",
       "3           4.6          3.1           1.5          0.2  setosa\n",
       "4           5.0          3.6           1.4          0.2  setosa"
      ]
     },
     "execution_count": 2,
     "metadata": {},
     "output_type": "execute_result"
    }
   ],
   "source": [
    "import pandas as pd\n",
    "import numpy as np\n",
    "import matplotlib.pyplot as plt\n",
    "import seaborn as sns\n",
    "from matplotlib.ticker import FuncFormatter\n",
    "\n",
    "import warnings\n",
    "warnings.filterwarnings('ignore')\n",
    "\n",
    "df = pd.read_csv(r'C:\\Users\\Mohamed Fawzi\\Desktop\\Iris Analysis\\01_iris.csv')\n",
    "\n",
    "df.head()"
   ]
  },
  {
   "cell_type": "markdown",
   "id": "6580d6ba",
   "metadata": {},
   "source": [
    "## Inspecting Data:"
   ]
  },
  {
   "cell_type": "code",
   "execution_count": 3,
   "id": "f08082eb",
   "metadata": {},
   "outputs": [
    {
     "name": "stdout",
     "output_type": "stream",
     "text": [
      "<class 'pandas.core.frame.DataFrame'>\n",
      "RangeIndex: 150 entries, 0 to 149\n",
      "Data columns (total 5 columns):\n",
      " #   Column        Non-Null Count  Dtype  \n",
      "---  ------        --------------  -----  \n",
      " 0   sepal_length  150 non-null    float64\n",
      " 1   sepal_width   150 non-null    float64\n",
      " 2   petal_length  150 non-null    float64\n",
      " 3   petal_width   150 non-null    float64\n",
      " 4   species       150 non-null    object \n",
      "dtypes: float64(4), object(1)\n",
      "memory usage: 6.0+ KB\n"
     ]
    }
   ],
   "source": [
    "df.info()"
   ]
  },
  {
   "cell_type": "code",
   "execution_count": 4,
   "id": "815e0ba8",
   "metadata": {},
   "outputs": [
    {
     "data": {
      "application/vnd.microsoft.datawrangler.viewer.v0+json": {
       "columns": [
        {
         "name": "index",
         "rawType": "object",
         "type": "string"
        },
        {
         "name": "0",
         "rawType": "int64",
         "type": "integer"
        }
       ],
       "ref": "759c4f8d-ff9a-45e2-ba71-a9ac5ec6c546",
       "rows": [
        [
         "sepal_length",
         "0"
        ],
        [
         "sepal_width",
         "0"
        ],
        [
         "petal_length",
         "0"
        ],
        [
         "petal_width",
         "0"
        ],
        [
         "species",
         "0"
        ]
       ],
       "shape": {
        "columns": 1,
        "rows": 5
       }
      },
      "text/plain": [
       "sepal_length    0\n",
       "sepal_width     0\n",
       "petal_length    0\n",
       "petal_width     0\n",
       "species         0\n",
       "dtype: int64"
      ]
     },
     "execution_count": 4,
     "metadata": {},
     "output_type": "execute_result"
    }
   ],
   "source": [
    "# checking for null values\n",
    "df.isnull().sum()"
   ]
  },
  {
   "cell_type": "code",
   "execution_count": 5,
   "id": "4998a9c4",
   "metadata": {},
   "outputs": [
    {
     "data": {
      "text/plain": [
       "3"
      ]
     },
     "execution_count": 5,
     "metadata": {},
     "output_type": "execute_result"
    }
   ],
   "source": [
    "# checking for duplicates\n",
    "df.duplicated().sum()"
   ]
  },
  {
   "cell_type": "code",
   "execution_count": 6,
   "id": "b9f8925d",
   "metadata": {},
   "outputs": [],
   "source": [
    "# dropping duplicates\n",
    "df.drop_duplicates(inplace=True)"
   ]
  },
  {
   "cell_type": "markdown",
   "id": "64cedf47",
   "metadata": {},
   "source": [
    "## Exploratory Data Analysis (EDA):"
   ]
  },
  {
   "cell_type": "markdown",
   "id": "c750560b",
   "metadata": {},
   "source": [
    "-   General Statistics Summary:"
   ]
  },
  {
   "cell_type": "code",
   "execution_count": null,
   "id": "1fddd4aa",
   "metadata": {},
   "outputs": [
    {
     "data": {
      "application/vnd.microsoft.datawrangler.viewer.v0+json": {
       "columns": [
        {
         "name": "index",
         "rawType": "object",
         "type": "string"
        },
        {
         "name": "sepal_length",
         "rawType": "float64",
         "type": "float"
        },
        {
         "name": "sepal_width",
         "rawType": "float64",
         "type": "float"
        },
        {
         "name": "petal_length",
         "rawType": "float64",
         "type": "float"
        },
        {
         "name": "petal_width",
         "rawType": "float64",
         "type": "float"
        }
       ],
       "ref": "b263e250-2123-4303-8220-6bce413027bf",
       "rows": [
        [
         "count",
         "147.0",
         "147.0",
         "147.0",
         "147.0"
        ],
        [
         "mean",
         "5.856462585034014",
         "3.05578231292517",
         "3.780272108843538",
         "1.2088435374149662"
        ],
        [
         "std",
         "0.8290998607345104",
         "0.4370087068034353",
         "1.7591108999509792",
         "0.7578742052400408"
        ],
        [
         "min",
         "4.3",
         "2.0",
         "1.0",
         "0.1"
        ],
        [
         "25%",
         "5.1",
         "2.8",
         "1.6",
         "0.3"
        ],
        [
         "50%",
         "5.8",
         "3.0",
         "4.4",
         "1.3"
        ],
        [
         "75%",
         "6.4",
         "3.3",
         "5.1",
         "1.8"
        ],
        [
         "max",
         "7.9",
         "4.4",
         "6.9",
         "2.5"
        ]
       ],
       "shape": {
        "columns": 4,
        "rows": 8
       }
      },
      "text/html": [
       "<div>\n",
       "<style scoped>\n",
       "    .dataframe tbody tr th:only-of-type {\n",
       "        vertical-align: middle;\n",
       "    }\n",
       "\n",
       "    .dataframe tbody tr th {\n",
       "        vertical-align: top;\n",
       "    }\n",
       "\n",
       "    .dataframe thead th {\n",
       "        text-align: right;\n",
       "    }\n",
       "</style>\n",
       "<table border=\"1\" class=\"dataframe\">\n",
       "  <thead>\n",
       "    <tr style=\"text-align: right;\">\n",
       "      <th></th>\n",
       "      <th>sepal_length</th>\n",
       "      <th>sepal_width</th>\n",
       "      <th>petal_length</th>\n",
       "      <th>petal_width</th>\n",
       "    </tr>\n",
       "  </thead>\n",
       "  <tbody>\n",
       "    <tr>\n",
       "      <th>count</th>\n",
       "      <td>147.000000</td>\n",
       "      <td>147.000000</td>\n",
       "      <td>147.000000</td>\n",
       "      <td>147.000000</td>\n",
       "    </tr>\n",
       "    <tr>\n",
       "      <th>mean</th>\n",
       "      <td>5.856463</td>\n",
       "      <td>3.055782</td>\n",
       "      <td>3.780272</td>\n",
       "      <td>1.208844</td>\n",
       "    </tr>\n",
       "    <tr>\n",
       "      <th>std</th>\n",
       "      <td>0.829100</td>\n",
       "      <td>0.437009</td>\n",
       "      <td>1.759111</td>\n",
       "      <td>0.757874</td>\n",
       "    </tr>\n",
       "    <tr>\n",
       "      <th>min</th>\n",
       "      <td>4.300000</td>\n",
       "      <td>2.000000</td>\n",
       "      <td>1.000000</td>\n",
       "      <td>0.100000</td>\n",
       "    </tr>\n",
       "    <tr>\n",
       "      <th>25%</th>\n",
       "      <td>5.100000</td>\n",
       "      <td>2.800000</td>\n",
       "      <td>1.600000</td>\n",
       "      <td>0.300000</td>\n",
       "    </tr>\n",
       "    <tr>\n",
       "      <th>50%</th>\n",
       "      <td>5.800000</td>\n",
       "      <td>3.000000</td>\n",
       "      <td>4.400000</td>\n",
       "      <td>1.300000</td>\n",
       "    </tr>\n",
       "    <tr>\n",
       "      <th>75%</th>\n",
       "      <td>6.400000</td>\n",
       "      <td>3.300000</td>\n",
       "      <td>5.100000</td>\n",
       "      <td>1.800000</td>\n",
       "    </tr>\n",
       "    <tr>\n",
       "      <th>max</th>\n",
       "      <td>7.900000</td>\n",
       "      <td>4.400000</td>\n",
       "      <td>6.900000</td>\n",
       "      <td>2.500000</td>\n",
       "    </tr>\n",
       "  </tbody>\n",
       "</table>\n",
       "</div>"
      ],
      "text/plain": [
       "       sepal_length  sepal_width  petal_length  petal_width\n",
       "count    147.000000   147.000000    147.000000   147.000000\n",
       "mean       5.856463     3.055782      3.780272     1.208844\n",
       "std        0.829100     0.437009      1.759111     0.757874\n",
       "min        4.300000     2.000000      1.000000     0.100000\n",
       "25%        5.100000     2.800000      1.600000     0.300000\n",
       "50%        5.800000     3.000000      4.400000     1.300000\n",
       "75%        6.400000     3.300000      5.100000     1.800000\n",
       "max        7.900000     4.400000      6.900000     2.500000"
      ]
     },
     "execution_count": 7,
     "metadata": {},
     "output_type": "execute_result"
    }
   ],
   "source": [
    "df.describe()"
   ]
  },
  {
   "cell_type": "markdown",
   "id": "9a2591c9",
   "metadata": {},
   "source": [
    "-   Species Specific Statistics:"
   ]
  },
  {
   "cell_type": "code",
   "execution_count": null,
   "id": "2781c8ab",
   "metadata": {},
   "outputs": [
    {
     "data": {
      "application/vnd.microsoft.datawrangler.viewer.v0+json": {
       "columns": [
        {
         "name": "species",
         "rawType": "object",
         "type": "string"
        },
        {
         "name": "('sepal_length', 'count')",
         "rawType": "float64",
         "type": "float"
        },
        {
         "name": "('sepal_length', 'mean')",
         "rawType": "float64",
         "type": "float"
        },
        {
         "name": "('sepal_length', 'std')",
         "rawType": "float64",
         "type": "float"
        },
        {
         "name": "('sepal_length', 'min')",
         "rawType": "float64",
         "type": "float"
        },
        {
         "name": "('sepal_length', '25%')",
         "rawType": "float64",
         "type": "float"
        },
        {
         "name": "('sepal_length', '50%')",
         "rawType": "float64",
         "type": "float"
        },
        {
         "name": "('sepal_length', '75%')",
         "rawType": "float64",
         "type": "float"
        },
        {
         "name": "('sepal_length', 'max')",
         "rawType": "float64",
         "type": "float"
        },
        {
         "name": "('sepal_width', 'count')",
         "rawType": "float64",
         "type": "float"
        },
        {
         "name": "('sepal_width', 'mean')",
         "rawType": "float64",
         "type": "float"
        },
        {
         "name": "('sepal_width', 'std')",
         "rawType": "float64",
         "type": "float"
        },
        {
         "name": "('sepal_width', 'min')",
         "rawType": "float64",
         "type": "float"
        },
        {
         "name": "('sepal_width', '25%')",
         "rawType": "float64",
         "type": "float"
        },
        {
         "name": "('sepal_width', '50%')",
         "rawType": "float64",
         "type": "float"
        },
        {
         "name": "('sepal_width', '75%')",
         "rawType": "float64",
         "type": "float"
        },
        {
         "name": "('sepal_width', 'max')",
         "rawType": "float64",
         "type": "float"
        },
        {
         "name": "('petal_length', 'count')",
         "rawType": "float64",
         "type": "float"
        },
        {
         "name": "('petal_length', 'mean')",
         "rawType": "float64",
         "type": "float"
        },
        {
         "name": "('petal_length', 'std')",
         "rawType": "float64",
         "type": "float"
        },
        {
         "name": "('petal_length', 'min')",
         "rawType": "float64",
         "type": "float"
        },
        {
         "name": "('petal_length', '25%')",
         "rawType": "float64",
         "type": "float"
        },
        {
         "name": "('petal_length', '50%')",
         "rawType": "float64",
         "type": "float"
        },
        {
         "name": "('petal_length', '75%')",
         "rawType": "float64",
         "type": "float"
        },
        {
         "name": "('petal_length', 'max')",
         "rawType": "float64",
         "type": "float"
        },
        {
         "name": "('petal_width', 'count')",
         "rawType": "float64",
         "type": "float"
        },
        {
         "name": "('petal_width', 'mean')",
         "rawType": "float64",
         "type": "float"
        },
        {
         "name": "('petal_width', 'std')",
         "rawType": "float64",
         "type": "float"
        },
        {
         "name": "('petal_width', 'min')",
         "rawType": "float64",
         "type": "float"
        },
        {
         "name": "('petal_width', '25%')",
         "rawType": "float64",
         "type": "float"
        },
        {
         "name": "('petal_width', '50%')",
         "rawType": "float64",
         "type": "float"
        },
        {
         "name": "('petal_width', '75%')",
         "rawType": "float64",
         "type": "float"
        },
        {
         "name": "('petal_width', 'max')",
         "rawType": "float64",
         "type": "float"
        }
       ],
       "ref": "12ebd81a-c25c-46d6-9fa9-d0075e5fbd7e",
       "rows": [
        [
         "setosa",
         "48.0",
         "5.010416666666667",
         "0.35921876421948784",
         "4.3",
         "4.8",
         "5.0",
         "5.2",
         "5.8",
         "48.0",
         "3.43125",
         "0.3832427429188974",
         "2.3",
         "3.2",
         "3.4",
         "3.7",
         "4.4",
         "48.0",
         "1.4625000000000001",
         "0.17700222381100905",
         "1.0",
         "1.4",
         "1.5",
         "1.6",
         "1.9",
         "48.0",
         "0.25",
         "0.10518474122815553",
         "0.1",
         "0.2",
         "0.2",
         "0.3",
         "0.6"
        ],
        [
         "versicolor",
         "50.0",
         "5.936",
         "0.5161711470638635",
         "4.9",
         "5.6",
         "5.9",
         "6.3",
         "7.0",
         "50.0",
         "2.7700000000000005",
         "0.3137983233784114",
         "2.0",
         "2.525",
         "2.8",
         "3.0",
         "3.4",
         "50.0",
         "4.26",
         "0.46991097723995806",
         "3.0",
         "4.0",
         "4.35",
         "4.6",
         "5.1",
         "50.0",
         "1.3259999999999998",
         "0.197752680004544",
         "1.0",
         "1.2",
         "1.3",
         "1.5",
         "1.8"
        ],
        [
         "virginica",
         "49.0",
         "6.6040816326530605",
         "0.6321125900744363",
         "4.9",
         "6.3",
         "6.5",
         "6.9",
         "7.9",
         "49.0",
         "2.979591836734694",
         "0.32338031778692533",
         "2.2",
         "2.8",
         "3.0",
         "3.2",
         "3.8",
         "49.0",
         "5.5612244897959195",
         "0.5537058208601584",
         "4.5",
         "5.1",
         "5.6",
         "5.9",
         "6.9",
         "49.0",
         "2.0285714285714285",
         "0.2768874620972691",
         "1.4",
         "1.8",
         "2.0",
         "2.3",
         "2.5"
        ]
       ],
       "shape": {
        "columns": 32,
        "rows": 3
       }
      },
      "text/html": [
       "<div>\n",
       "<style scoped>\n",
       "    .dataframe tbody tr th:only-of-type {\n",
       "        vertical-align: middle;\n",
       "    }\n",
       "\n",
       "    .dataframe tbody tr th {\n",
       "        vertical-align: top;\n",
       "    }\n",
       "\n",
       "    .dataframe thead tr th {\n",
       "        text-align: left;\n",
       "    }\n",
       "\n",
       "    .dataframe thead tr:last-of-type th {\n",
       "        text-align: right;\n",
       "    }\n",
       "</style>\n",
       "<table border=\"1\" class=\"dataframe\">\n",
       "  <thead>\n",
       "    <tr>\n",
       "      <th></th>\n",
       "      <th colspan=\"8\" halign=\"left\">sepal_length</th>\n",
       "      <th colspan=\"2\" halign=\"left\">sepal_width</th>\n",
       "      <th>...</th>\n",
       "      <th colspan=\"2\" halign=\"left\">petal_length</th>\n",
       "      <th colspan=\"8\" halign=\"left\">petal_width</th>\n",
       "    </tr>\n",
       "    <tr>\n",
       "      <th></th>\n",
       "      <th>count</th>\n",
       "      <th>mean</th>\n",
       "      <th>std</th>\n",
       "      <th>min</th>\n",
       "      <th>25%</th>\n",
       "      <th>50%</th>\n",
       "      <th>75%</th>\n",
       "      <th>max</th>\n",
       "      <th>count</th>\n",
       "      <th>mean</th>\n",
       "      <th>...</th>\n",
       "      <th>75%</th>\n",
       "      <th>max</th>\n",
       "      <th>count</th>\n",
       "      <th>mean</th>\n",
       "      <th>std</th>\n",
       "      <th>min</th>\n",
       "      <th>25%</th>\n",
       "      <th>50%</th>\n",
       "      <th>75%</th>\n",
       "      <th>max</th>\n",
       "    </tr>\n",
       "    <tr>\n",
       "      <th>species</th>\n",
       "      <th></th>\n",
       "      <th></th>\n",
       "      <th></th>\n",
       "      <th></th>\n",
       "      <th></th>\n",
       "      <th></th>\n",
       "      <th></th>\n",
       "      <th></th>\n",
       "      <th></th>\n",
       "      <th></th>\n",
       "      <th></th>\n",
       "      <th></th>\n",
       "      <th></th>\n",
       "      <th></th>\n",
       "      <th></th>\n",
       "      <th></th>\n",
       "      <th></th>\n",
       "      <th></th>\n",
       "      <th></th>\n",
       "      <th></th>\n",
       "      <th></th>\n",
       "    </tr>\n",
       "  </thead>\n",
       "  <tbody>\n",
       "    <tr>\n",
       "      <th>setosa</th>\n",
       "      <td>48.0</td>\n",
       "      <td>5.010417</td>\n",
       "      <td>0.359219</td>\n",
       "      <td>4.3</td>\n",
       "      <td>4.8</td>\n",
       "      <td>5.0</td>\n",
       "      <td>5.2</td>\n",
       "      <td>5.8</td>\n",
       "      <td>48.0</td>\n",
       "      <td>3.431250</td>\n",
       "      <td>...</td>\n",
       "      <td>1.6</td>\n",
       "      <td>1.9</td>\n",
       "      <td>48.0</td>\n",
       "      <td>0.250000</td>\n",
       "      <td>0.105185</td>\n",
       "      <td>0.1</td>\n",
       "      <td>0.2</td>\n",
       "      <td>0.2</td>\n",
       "      <td>0.3</td>\n",
       "      <td>0.6</td>\n",
       "    </tr>\n",
       "    <tr>\n",
       "      <th>versicolor</th>\n",
       "      <td>50.0</td>\n",
       "      <td>5.936000</td>\n",
       "      <td>0.516171</td>\n",
       "      <td>4.9</td>\n",
       "      <td>5.6</td>\n",
       "      <td>5.9</td>\n",
       "      <td>6.3</td>\n",
       "      <td>7.0</td>\n",
       "      <td>50.0</td>\n",
       "      <td>2.770000</td>\n",
       "      <td>...</td>\n",
       "      <td>4.6</td>\n",
       "      <td>5.1</td>\n",
       "      <td>50.0</td>\n",
       "      <td>1.326000</td>\n",
       "      <td>0.197753</td>\n",
       "      <td>1.0</td>\n",
       "      <td>1.2</td>\n",
       "      <td>1.3</td>\n",
       "      <td>1.5</td>\n",
       "      <td>1.8</td>\n",
       "    </tr>\n",
       "    <tr>\n",
       "      <th>virginica</th>\n",
       "      <td>49.0</td>\n",
       "      <td>6.604082</td>\n",
       "      <td>0.632113</td>\n",
       "      <td>4.9</td>\n",
       "      <td>6.3</td>\n",
       "      <td>6.5</td>\n",
       "      <td>6.9</td>\n",
       "      <td>7.9</td>\n",
       "      <td>49.0</td>\n",
       "      <td>2.979592</td>\n",
       "      <td>...</td>\n",
       "      <td>5.9</td>\n",
       "      <td>6.9</td>\n",
       "      <td>49.0</td>\n",
       "      <td>2.028571</td>\n",
       "      <td>0.276887</td>\n",
       "      <td>1.4</td>\n",
       "      <td>1.8</td>\n",
       "      <td>2.0</td>\n",
       "      <td>2.3</td>\n",
       "      <td>2.5</td>\n",
       "    </tr>\n",
       "  </tbody>\n",
       "</table>\n",
       "<p>3 rows × 32 columns</p>\n",
       "</div>"
      ],
      "text/plain": [
       "           sepal_length                                               \\\n",
       "                  count      mean       std  min  25%  50%  75%  max   \n",
       "species                                                                \n",
       "setosa             48.0  5.010417  0.359219  4.3  4.8  5.0  5.2  5.8   \n",
       "versicolor         50.0  5.936000  0.516171  4.9  5.6  5.9  6.3  7.0   \n",
       "virginica          49.0  6.604082  0.632113  4.9  6.3  6.5  6.9  7.9   \n",
       "\n",
       "           sepal_width            ... petal_length      petal_width            \\\n",
       "                 count      mean  ...          75%  max       count      mean   \n",
       "species                           ...                                           \n",
       "setosa            48.0  3.431250  ...          1.6  1.9        48.0  0.250000   \n",
       "versicolor        50.0  2.770000  ...          4.6  5.1        50.0  1.326000   \n",
       "virginica         49.0  2.979592  ...          5.9  6.9        49.0  2.028571   \n",
       "\n",
       "                                               \n",
       "                 std  min  25%  50%  75%  max  \n",
       "species                                        \n",
       "setosa      0.105185  0.1  0.2  0.2  0.3  0.6  \n",
       "versicolor  0.197753  1.0  1.2  1.3  1.5  1.8  \n",
       "virginica   0.276887  1.4  1.8  2.0  2.3  2.5  \n",
       "\n",
       "[3 rows x 32 columns]"
      ]
     },
     "execution_count": 9,
     "metadata": {},
     "output_type": "execute_result"
    }
   ],
   "source": [
    "df.groupby('species').describe()"
   ]
  },
  {
   "cell_type": "markdown",
   "id": "a7cbb812",
   "metadata": {},
   "source": [
    "-   Correlation Analysis:"
   ]
  },
  {
   "cell_type": "code",
   "execution_count": 11,
   "id": "86a11483",
   "metadata": {},
   "outputs": [
    {
     "data": {
      "image/png": "[encoded data removed]",
      "text/plain": [
       "<Figure size 800x400 with 2 Axes>"
      ]
     },
     "metadata": {},
     "output_type": "display_data"
    }
   ],
   "source": [
    "numeric_cols = ['sepal_length', 'sepal_width', 'petal_length', 'petal_width']\n",
    "\n",
    "correlation_matrix = df[numeric_cols].corr()\n",
    "\n",
    "plt.figure(figsize=(8, 4))\n",
    "sns.heatmap(correlation_matrix,\n",
    "            annot=True,\n",
    "            cmap='coolwarm',\n",
    "            fmt=\".2f\"\n",
    "            )\n",
    "plt.title('Correlation Matrix')\n",
    "\n",
    "plt.tight_layout()\n",
    "plt.show()"
   ]
  }
 ],
 "metadata": {
  "kernelspec": {
   "display_name": "data_projects",
   "language": "python",
   "name": "python3"
  },
  "language_info": {
   "codemirror_mode": {
    "name": "ipython",
    "version": 3
   },
   "file_extension": ".py",
   "mimetype": "text/x-python",
   "name": "python",
   "nbconvert_exporter": "python",
   "pygments_lexer": "ipython3",
   "version": "3.12.3"
  }
 },
 "nbformat": 4,
 "nbformat_minor": 5
}
